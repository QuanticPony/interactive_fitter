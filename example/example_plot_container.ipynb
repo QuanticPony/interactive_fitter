{
 "cells": [
  {
   "cell_type": "code",
   "execution_count": null,
   "metadata": {},
   "outputs": [],
   "source": [
    "%matplotlib qt5\n",
    "import itfit\n",
    "import numpy as np\n",
    "from tests import dataFunction, gauss\n",
    "import matplotlib.pyplot as plt"
   ]
  },
  {
   "cell_type": "code",
   "execution_count": null,
   "metadata": {},
   "outputs": [],
   "source": [
    "noise = np.random.normal(size=200)\n",
    "\n",
    "xdata = np.arange(200)\n",
    "ydata = dataFunction(xdata, -0.04, 5, np.random.random()\n",
    "                     * 30, np.random.random()*200, 15) + noise"
   ]
  },
  {
   "cell_type": "code",
   "execution_count": null,
   "metadata": {},
   "outputs": [],
   "source": [
    "\n",
    "fitter_app = itfit.Fitter(xdata, ydata)\n",
    "\n",
    "fitter_app()"
   ]
  },
  {
   "cell_type": "code",
   "execution_count": null,
   "metadata": {},
   "outputs": [],
   "source": [
    "fit = fitter_app.get_plot_builder()\n",
    "fit.plot_fit(label=\"fit\").with_data(label=\"data\")\n",
    "fit.grid().legend().tight_layout()"
   ]
  },
  {
   "cell_type": "code",
   "execution_count": null,
   "metadata": {},
   "outputs": [],
   "source": [
    "fit.title(\"This may be a bad example\").color(\"red\").end_title()#.show_inline()"
   ]
  },
  {
   "cell_type": "code",
   "execution_count": null,
   "metadata": {},
   "outputs": [],
   "source": [
    "fit.xlabel(\"time [s]\").fontsize(12).end_xlabel()\\\n",
    "    .ylabel(\"current [A]\").fontsize(12).end_ylabel()\\\n",
    "        # .show_inline()"
   ]
  },
  {
   "cell_type": "code",
   "execution_count": null,
   "metadata": {},
   "outputs": [],
   "source": [
    "fit.tight_layout()"
   ]
  }
 ],
 "metadata": {
  "kernelspec": {
   "display_name": "phaseportrait",
   "language": "python",
   "name": "python3"
  },
  "language_info": {
   "codemirror_mode": {
    "name": "ipython",
    "version": 3
   },
   "file_extension": ".py",
   "mimetype": "text/x-python",
   "name": "python",
   "nbconvert_exporter": "python",
   "pygments_lexer": "ipython3",
   "version": "3.9.10"
  },
  "orig_nbformat": 4,
  "vscode": {
   "interpreter": {
    "hash": "3bb9538ac7b7d94ac197e78a889597704cf6a6380c3788800459943b237f4644"
   }
  }
 },
 "nbformat": 4,
 "nbformat_minor": 2
}
