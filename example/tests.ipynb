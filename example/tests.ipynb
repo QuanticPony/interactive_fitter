{
 "cells": [
  {
   "cell_type": "code",
   "execution_count": 1,
   "metadata": {},
   "outputs": [],
   "source": [
    "%matplotlib qt5"
   ]
  },
  {
   "cell_type": "code",
   "execution_count": 2,
   "metadata": {},
   "outputs": [
    {
     "name": "stderr",
     "output_type": "stream",
     "text": [
      "C:\\Computation\\interactive_fitter\\fitter\\fitter_app.py:22: UserWarning: Treat the new Tool classes introduced in v1.5 as experimental for now; the API and rcParam may change in future versions.\n",
      "  plt.rcParams['toolbar'] = 'toolmanager'\n"
     ]
    }
   ],
   "source": [
    "import matplotlib as mpl\n",
    "import matplotlib.pyplot as plt\n",
    "import numpy as np\n",
    "\n",
    "import fitter\n",
    "from fitter import utils\n",
    "from tests import dataFunction, gauss\n",
    "# mpl.use(\"QtAgg\")"
   ]
  },
  {
   "cell_type": "code",
   "execution_count": 3,
   "metadata": {},
   "outputs": [],
   "source": [
    "\n",
    "noise =  np.random.normal(size=200)\n",
    "\n",
    "xdata = np.arange(200)\n",
    "ydata = dataFunction(xdata, -0.04, 5, 20, 120,15) + noise"
   ]
  },
  {
   "cell_type": "code",
   "execution_count": 4,
   "metadata": {},
   "outputs": [],
   "source": [
    "fitter_app = fitter.Fitter(xdata, ydata)\n",
    "fitter_app.ax\n",
    "fitter_app()"
   ]
  },
  {
   "cell_type": "code",
   "execution_count": 5,
   "metadata": {},
   "outputs": [],
   "source": [
    "for fit in fitter_app.fits.values():\n",
    "    fig, ax = plt.subplots()\n",
    "    ax.plot(xdata, ydata)\n",
    "    fit_line, = ax.plot(utils.GaussianFunction(xdata, *fit[0][0]))\n",
    "    fit_line.set_label(f\"A={fit[0][0][0]:.3f}\\nm={fit[0][0][1]:.3f}\\ns={fit[0][0][2]:.3f}\")\n",
    "    ax.legend()\n",
    "    ax.grid()"
   ]
  }
 ],
 "metadata": {
  "kernelspec": {
   "display_name": "phaseportrait",
   "language": "python",
   "name": "python3"
  },
  "language_info": {
   "codemirror_mode": {
    "name": "ipython",
    "version": 3
   },
   "file_extension": ".py",
   "mimetype": "text/x-python",
   "name": "python",
   "nbconvert_exporter": "python",
   "pygments_lexer": "ipython3",
   "version": "3.9.10"
  },
  "orig_nbformat": 4,
  "vscode": {
   "interpreter": {
    "hash": "3bb9538ac7b7d94ac197e78a889597704cf6a6380c3788800459943b237f4644"
   }
  }
 },
 "nbformat": 4,
 "nbformat_minor": 2
}
