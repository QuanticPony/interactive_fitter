{
 "cells": [
  {
   "cell_type": "code",
   "execution_count": null,
   "metadata": {},
   "outputs": [],
   "source": [
    "%matplotlib qt5\n",
    "import matplotlib as mpl\n",
    "import matplotlib.pyplot as plt\n",
    "import numpy as np\n",
    "\n",
    "import fitter\n",
    "# from fitter import utils\n",
    "from tests import dataFunction, gauss\n",
    "\n",
    "import pylustrator"
   ]
  },
  {
   "cell_type": "code",
   "execution_count": null,
   "metadata": {},
   "outputs": [],
   "source": [
    "\n",
    "noise =  np.random.normal(size=200)\n",
    "\n",
    "xdata = np.arange(200)\n",
    "ydata = dataFunction(xdata, -0.04, 5, 20, 120,15) + noise"
   ]
  },
  {
   "cell_type": "code",
   "execution_count": null,
   "metadata": {},
   "outputs": [],
   "source": [
    "fitter_app = fitter.Fitter(xdata, ydata)\n",
    "fitter_app.ax\n",
    "fitter_app()"
   ]
  },
  {
   "cell_type": "code",
   "execution_count": null,
   "metadata": {},
   "outputs": [],
   "source": [
    "for fit in fitter_app.fits.values():  \n",
    "        fig, ax = plt.subplots()\n",
    "        ax.plot(xdata, ydata)\n",
    "        fit_line, = ax.plot(fit.get_xdata(), fit.get_fit_ydata(), '--', c='black')\n",
    "        \n",
    "        print(fit.get_parameters())\n",
    "        print(fit.get_parameters_errors())\n",
    "\n",
    "        ax.grid()"
   ]
  },
  {
   "cell_type": "code",
   "execution_count": null,
   "metadata": {},
   "outputs": [],
   "source": [
    "pylustrator.start()\n",
    "fit_gauss, fit_linear = fitter_app.fits.values()\n",
    "plt.plot(xdata, ydata)\n",
    "plt.plot(fit_gauss.get_fit_xdata(), fit_gauss.get_fit_ydata())\n",
    "plt.plot(fit_linear.get_fit_xdata(), fit_linear.get_fit_ydata(), label='Linear_fit')\n",
    "plt.show()"
   ]
  }
 ],
 "metadata": {
  "kernelspec": {
   "display_name": "phaseportrait",
   "language": "python",
   "name": "python3"
  },
  "language_info": {
   "codemirror_mode": {
    "name": "ipython",
    "version": 3
   },
   "file_extension": ".py",
   "mimetype": "text/x-python",
   "name": "python",
   "nbconvert_exporter": "python",
   "pygments_lexer": "ipython3",
   "version": "3.9.10"
  },
  "orig_nbformat": 4,
  "vscode": {
   "interpreter": {
    "hash": "3bb9538ac7b7d94ac197e78a889597704cf6a6380c3788800459943b237f4644"
   }
  }
 },
 "nbformat": 4,
 "nbformat_minor": 2
}
